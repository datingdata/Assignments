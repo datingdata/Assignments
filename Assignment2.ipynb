{
 "cells": [
  {
   "cell_type": "code",
   "execution_count": 1,
   "id": "96265d0b",
   "metadata": {},
   "outputs": [
    {
     "data": {
      "text/plain": [
       "'\\nThis is also a multi line comment.\\n'"
      ]
     },
     "execution_count": 1,
     "metadata": {},
     "output_type": "execute_result"
    }
   ],
   "source": [
    "\"\"\"\n",
    "Q1. How do you comment code in Python? What are the different types of comments?\n",
    "\"\"\"\n",
    "\"\"\"\n",
    "Comments are some explanation or descriptions written alongside code to help others reading our code.\n",
    "Basically its sidenotes which doesnt get executed like the codes but provide us some insights about the code.\n",
    "\n",
    "there are two types of comments... Single line comments and Multiple line comments.\n",
    "\"\"\"\n",
    "#this is an example of single line comment.\n",
    "\n",
    "'''\n",
    "This is an example of multi line comments.\n",
    "'''\n",
    "\"\"\"\n",
    "This is also a multi line comment.\n",
    "\"\"\""
   ]
  },
  {
   "cell_type": "code",
   "execution_count": 2,
   "id": "b55220b6",
   "metadata": {},
   "outputs": [],
   "source": [
    "#Q2. What are variables in Python? How do you declare and assign values to variables?\n",
    "\n",
    "\"\"\"\n",
    "When we assign some value to any word.. it becomes a variable.\n",
    "We declare any variable by assigning some value to it... for example:\n",
    "\"\"\"\n",
    "var1 = 20 #here we assigned 20to variable var1"
   ]
  },
  {
   "cell_type": "code",
   "execution_count": 3,
   "id": "7de7e860",
   "metadata": {},
   "outputs": [
    {
     "name": "stdout",
     "output_type": "stream",
     "text": [
      "<class 'int'>\n",
      "<class 'float'>\n",
      "<class 'str'>\n"
     ]
    }
   ],
   "source": [
    "#Q3. How do you convert one data type to another in Python?\n",
    "\n",
    "\"\"\"\n",
    "Converting one data type to another data type is called TYPECASTING.\n",
    "for example:\n",
    "\"\"\"\n",
    "var2 = 20    #its data type is integer\n",
    "var3 = float(var2)   #here we changed its data type to float\n",
    "\n",
    "var4 = str(var2)    #here the data type of var2 is changed to string\n",
    "\n",
    "\n",
    "print(type(var2))\n",
    "print(type(var3))\n",
    "print(type(var4))"
   ]
  },
  {
   "cell_type": "code",
   "execution_count": 4,
   "id": "434f2402",
   "metadata": {},
   "outputs": [
    {
     "data": {
      "text/plain": [
       "'\\nWe can execute any python script by clicking on the triangle shaped RUN button.\\n'"
      ]
     },
     "execution_count": 4,
     "metadata": {},
     "output_type": "execute_result"
    }
   ],
   "source": [
    "#Q4. How do you write and execute a Python script from the command line?\n",
    "\n",
    "\"\"\"\n",
    "We can execute any python script by clicking on the triangle shaped RUN button.\n",
    "\"\"\""
   ]
  },
  {
   "cell_type": "code",
   "execution_count": 6,
   "id": "d7e0cd9e",
   "metadata": {},
   "outputs": [
    {
     "name": "stdout",
     "output_type": "stream",
     "text": [
      "[2, 3]\n"
     ]
    }
   ],
   "source": [
    "#Q5. Given a list my_list = [1, 2, 3, 4, 5], write the code to slice the list and obtain the sub-list [2, 3].\n",
    "\n",
    "my_list = [1, 2, 3, 4, 5]\n",
    "\n",
    "my_new_list = my_list[1:3]\n",
    "print(my_new_list)"
   ]
  },
  {
   "cell_type": "code",
   "execution_count": 8,
   "id": "c62fe7ad",
   "metadata": {},
   "outputs": [
    {
     "data": {
      "text/plain": [
       "complex"
      ]
     },
     "execution_count": 8,
     "metadata": {},
     "output_type": "execute_result"
    }
   ],
   "source": [
    "#Q6. What is a complex number in mathematics, and how is it represented in Python?\n",
    "\n",
    "\"\"\"\n",
    "In mathematics, a complex number is a number that can be expressed in the form \"a + bi\", \n",
    "where \"a\" and \"b\" are real numbers, and \"i\" is the imaginary unit.\n",
    "The imaginary unit \"i\" is defined as the square root of -1, which means that \"i^2\" is equal to -1.\n",
    "Here are a few examples of complex numbers:\n",
    "3 + 4i\n",
    "-2 - i\n",
    "\n",
    "\"\"\"\n",
    "a = 4j   #in python it is represented by 'j'\n",
    "type(a)"
   ]
  },
  {
   "cell_type": "code",
   "execution_count": 10,
   "id": "3673ec60",
   "metadata": {},
   "outputs": [
    {
     "name": "stdout",
     "output_type": "stream",
     "text": [
      "25\n"
     ]
    }
   ],
   "source": [
    "#Q7. What is the correct way to declare a variable named age and assign the value 25 to it?\n",
    "\n",
    "age = 25\n",
    "print(age)"
   ]
  },
  {
   "cell_type": "code",
   "execution_count": 11,
   "id": "d3e2c52e",
   "metadata": {},
   "outputs": [
    {
     "name": "stdout",
     "output_type": "stream",
     "text": [
      "<class 'float'>\n"
     ]
    }
   ],
   "source": [
    "#Q8. Declare a variable named price and assign the value 9.99 to it. What data type does this variable belong to?\n",
    "\n",
    "price = 9.99\n",
    "print(type(price))\n"
   ]
  },
  {
   "cell_type": "code",
   "execution_count": 12,
   "id": "e0c44c08",
   "metadata": {},
   "outputs": [
    {
     "name": "stdout",
     "output_type": "stream",
     "text": [
      "Shweta Kumari\n"
     ]
    }
   ],
   "source": [
    "#Q9. Create a variable named name and assign your full name to it as a string. How would you print the value of this variable?\n",
    "\n",
    "name = 'Shweta Kumari'\n",
    "\n",
    "print(name)"
   ]
  },
  {
   "cell_type": "code",
   "execution_count": 13,
   "id": "b907a7dc",
   "metadata": {},
   "outputs": [
    {
     "name": "stdout",
     "output_type": "stream",
     "text": [
      "World\n"
     ]
    }
   ],
   "source": [
    "#Q10. Given the string \"Hello, World!\", extract the substring \"World\".\n",
    "\n",
    "string1 = 'Hello, World'\n",
    "substring = string1[7:]\n",
    "print(substring)"
   ]
  },
  {
   "cell_type": "code",
   "execution_count": 14,
   "id": "ecc21c12",
   "metadata": {},
   "outputs": [
    {
     "name": "stdout",
     "output_type": "stream",
     "text": [
      "True\n"
     ]
    }
   ],
   "source": [
    "#Q11. Create a variable named \"is_student\" and assign it a boolean value indicating whether you are currently a student or not.\n",
    "\n",
    "is_student = True  # Assuming you are currently a student\n",
    "\n",
    "print(is_student)\n"
   ]
  },
  {
   "cell_type": "code",
   "execution_count": null,
   "id": "dbe822a7",
   "metadata": {},
   "outputs": [],
   "source": []
  }
 ],
 "metadata": {
  "kernelspec": {
   "display_name": "Python 3 (ipykernel)",
   "language": "python",
   "name": "python3"
  },
  "language_info": {
   "codemirror_mode": {
    "name": "ipython",
    "version": 3
   },
   "file_extension": ".py",
   "mimetype": "text/x-python",
   "name": "python",
   "nbconvert_exporter": "python",
   "pygments_lexer": "ipython3",
   "version": "3.10.9"
  }
 },
 "nbformat": 4,
 "nbformat_minor": 5
}
