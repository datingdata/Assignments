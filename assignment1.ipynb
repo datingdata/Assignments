{
 "cells": [
  {
   "cell_type": "code",
   "execution_count": 1,
   "id": "2bcb034b",
   "metadata": {},
   "outputs": [
    {
     "data": {
      "text/plain": [
       "'Q1. Create one variable containing following type of data:\\n(i) string\\n(ii) list\\n(iii) float\\n(iv) tuple'"
      ]
     },
     "execution_count": 1,
     "metadata": {},
     "output_type": "execute_result"
    }
   ],
   "source": [
    "\"\"\"Q1. Create one variable containing following type of data:\n",
    "(i) string\n",
    "(ii) list\n",
    "(iii) float\n",
    "(iv) tuple\"\"\""
   ]
  },
  {
   "cell_type": "code",
   "execution_count": 2,
   "id": "ac10f5a6",
   "metadata": {},
   "outputs": [
    {
     "data": {
      "text/plain": [
       "str"
      ]
     },
     "execution_count": 2,
     "metadata": {},
     "output_type": "execute_result"
    }
   ],
   "source": [
    "my_str = 'shweta'\n",
    "type(my_str)"
   ]
  },
  {
   "cell_type": "code",
   "execution_count": 3,
   "id": "c4b8bd1f",
   "metadata": {},
   "outputs": [
    {
     "data": {
      "text/plain": [
       "list"
      ]
     },
     "execution_count": 3,
     "metadata": {},
     "output_type": "execute_result"
    }
   ],
   "source": [
    "my_list = [1 , 3.65 , 'shweta' , False , [1,2,3], ('wnj','nswnj')]\n",
    "type(my_list)"
   ]
  },
  {
   "cell_type": "code",
   "execution_count": 4,
   "id": "2649d6bb",
   "metadata": {},
   "outputs": [
    {
     "data": {
      "text/plain": [
       "float"
      ]
     },
     "execution_count": 4,
     "metadata": {},
     "output_type": "execute_result"
    }
   ],
   "source": [
    "my_float = 54.85\n",
    "type(my_float)"
   ]
  },
  {
   "cell_type": "code",
   "execution_count": 5,
   "id": "186076bc",
   "metadata": {},
   "outputs": [
    {
     "data": {
      "text/plain": [
       "tuple"
      ]
     },
     "execution_count": 5,
     "metadata": {},
     "output_type": "execute_result"
    }
   ],
   "source": [
    "my_tuple = ('ghb' , 'vghfg')\n",
    "type(my_tuple)"
   ]
  },
  {
   "cell_type": "code",
   "execution_count": 6,
   "id": "7a228035",
   "metadata": {},
   "outputs": [
    {
     "data": {
      "text/plain": [
       "'Q2. Given are some following variables containing data:\\n(i) var1 = ‘ ‘\\n(ii) var2 = ‘[ DS , ML , Python]’\\n(iii) var3 = [ ‘DS’ , ’ML’ , ‘Python’ ]\\n(iv) var4 = 1.\\nWhat will be the data type of the above given variable.'"
      ]
     },
     "execution_count": 6,
     "metadata": {},
     "output_type": "execute_result"
    }
   ],
   "source": [
    "\"\"\"Q2. Given are some following variables containing data:\n",
    "(i) var1 = ‘ ‘\n",
    "(ii) var2 = ‘[ DS , ML , Python]’\n",
    "(iii) var3 = [ ‘DS’ , ’ML’ , ‘Python’ ]\n",
    "(iv) var4 = 1.\n",
    "What will be the data type of the above given variable.\"\"\""
   ]
  },
  {
   "cell_type": "markdown",
   "id": "37d5ec99",
   "metadata": {},
   "source": [
    "Answers i) string ii)string iii) list iv) float"
   ]
  },
  {
   "cell_type": "code",
   "execution_count": 8,
   "id": "1fd04183",
   "metadata": {},
   "outputs": [
    {
     "data": {
      "text/plain": [
       "'\\nQ3. Explain the use of the following operators using an example:\\n(i) /\\n(ii) %\\n(iii) //\\n(iv) **\\n'"
      ]
     },
     "execution_count": 8,
     "metadata": {},
     "output_type": "execute_result"
    }
   ],
   "source": [
    "\"\"\"\n",
    "Q3. Explain the use of the following operators using an example:\n",
    "(i) /\n",
    "(ii) %\n",
    "(iii) //\n",
    "(iv) **\n",
    "\"\"\""
   ]
  },
  {
   "cell_type": "code",
   "execution_count": 9,
   "id": "5ef9e7dd",
   "metadata": {},
   "outputs": [
    {
     "data": {
      "text/plain": [
       "10.0"
      ]
     },
     "execution_count": 9,
     "metadata": {},
     "output_type": "execute_result"
    }
   ],
   "source": [
    "\"\"\"\n",
    "i) / is used for division.\n",
    "\n",
    "for example.. \"\"\"\n",
    "\n",
    "a = 50\n",
    "b = 5\n",
    "a/b"
   ]
  },
  {
   "cell_type": "code",
   "execution_count": 10,
   "id": "27e0733c",
   "metadata": {},
   "outputs": [
    {
     "data": {
      "text/plain": [
       "0"
      ]
     },
     "execution_count": 10,
     "metadata": {},
     "output_type": "execute_result"
    }
   ],
   "source": [
    "\"\"\"\n",
    "ii) % is used for getting the remainder amount.\n",
    "for example..\"\"\"\n",
    "\n",
    "a%b #as a is fully divided by b the answer should be 0"
   ]
  },
  {
   "cell_type": "code",
   "execution_count": 11,
   "id": "9c549047",
   "metadata": {},
   "outputs": [
    {
     "data": {
      "text/plain": [
       "10"
      ]
     },
     "execution_count": 11,
     "metadata": {},
     "output_type": "execute_result"
    }
   ],
   "source": [
    "\"\"\"\n",
    "iii) // is used to calculate in how many times a number is being divided by another number.\n",
    "for example..\"\"\"\n",
    "\n",
    "a//b"
   ]
  },
  {
   "cell_type": "code",
   "execution_count": 12,
   "id": "ad09bfba",
   "metadata": {},
   "outputs": [
    {
     "data": {
      "text/plain": [
       "25"
      ]
     },
     "execution_count": 12,
     "metadata": {},
     "output_type": "execute_result"
    }
   ],
   "source": [
    "\"\"\"\n",
    "iv) ** is used as 'to the power of'\n",
    "for example...\"\"\"\n",
    "\n",
    "b**2"
   ]
  },
  {
   "cell_type": "code",
   "execution_count": 8,
   "id": "9f8f85e7",
   "metadata": {},
   "outputs": [
    {
     "name": "stdout",
     "output_type": "stream",
     "text": [
      "1\n",
      "2\n",
      "3\n",
      "4\n",
      "5\n",
      "6\n",
      "7\n",
      "8\n",
      "9\n",
      "10\n"
     ]
    }
   ],
   "source": [
    "\"\"\"\n",
    "Q4. Create a list of length 10 of your choice containing multiple types of data. Using for loop print the\n",
    "element and its data type.\n",
    "\"\"\"\n",
    "l = [1,2,3,4,5,6,7,8,9,10]\n",
    "\n",
    "for i in l:\n",
    "    print(i)"
   ]
  },
  {
   "cell_type": "code",
   "execution_count": 7,
   "id": "1f73ec00",
   "metadata": {},
   "outputs": [
    {
     "name": "stdout",
     "output_type": "stream",
     "text": [
      "A is completely divisible by B. A divides B in 8 times\n"
     ]
    }
   ],
   "source": [
    "\"\"\"\n",
    "Q5. Using a while loop, verify if the number A is purely divisible by number B and if so then how many\n",
    "times it can be divisible.\n",
    "\"\"\"\n",
    "\n",
    "A = 88\n",
    "B = 11\n",
    "quotient = A//B\n",
    "count = 1\n",
    "while count<=1:\n",
    "    if A % B==0:\n",
    "        print(f\"A is completely divisible by B. A divides B in {quotient} times\" )\n",
    "        count+=1"
   ]
  },
  {
   "cell_type": "code",
   "execution_count": 12,
   "id": "5d7baa12",
   "metadata": {},
   "outputs": [
    {
     "name": "stdout",
     "output_type": "stream",
     "text": [
      "[45, 77, 2, 81, 15, 60, 8, 40, 94, 32, 30, 71, 20, 79, 17, 16, 46, 91, 82, 37, 21, 49, 70, 86, 93]\n",
      "45\n",
      "this no is divisible by 3\n",
      "77\n",
      "this no is not divisible by 3\n",
      "2\n",
      "this no is not divisible by 3\n",
      "81\n",
      "this no is divisible by 3\n",
      "15\n",
      "this no is divisible by 3\n",
      "60\n",
      "this no is divisible by 3\n",
      "8\n",
      "this no is not divisible by 3\n",
      "40\n",
      "this no is not divisible by 3\n",
      "94\n",
      "this no is not divisible by 3\n",
      "32\n",
      "this no is not divisible by 3\n",
      "30\n",
      "this no is divisible by 3\n",
      "71\n",
      "this no is not divisible by 3\n",
      "20\n",
      "this no is not divisible by 3\n",
      "79\n",
      "this no is not divisible by 3\n",
      "17\n",
      "this no is not divisible by 3\n",
      "16\n",
      "this no is not divisible by 3\n",
      "46\n",
      "this no is not divisible by 3\n",
      "91\n",
      "this no is not divisible by 3\n",
      "82\n",
      "this no is not divisible by 3\n",
      "37\n",
      "this no is not divisible by 3\n",
      "21\n",
      "this no is divisible by 3\n",
      "49\n",
      "this no is not divisible by 3\n",
      "70\n",
      "this no is not divisible by 3\n",
      "86\n",
      "this no is not divisible by 3\n",
      "93\n",
      "this no is divisible by 3\n"
     ]
    }
   ],
   "source": [
    "\"\"\"\n",
    "Q6. Create a list containing 25 int type data. Using for loop and if-else condition print if the element is\n",
    "divisible by 3 or not.\n",
    "\"\"\"\n",
    "\n",
    "import random\n",
    "lst = random.sample(range(1,100),25)\n",
    "print(lst)\n",
    "\n",
    "for i in lst:\n",
    "    if i%3==0:\n",
    "        print(i)\n",
    "        print('this no is divisible by 3')\n",
    "    else:\n",
    "        print(i)\n",
    "        print('this no is not divisible by 3')"
   ]
  },
  {
   "cell_type": "code",
   "execution_count": 14,
   "id": "069d0983",
   "metadata": {},
   "outputs": [
    {
     "name": "stdout",
     "output_type": "stream",
     "text": [
      "[1, 'two', 'list']\n"
     ]
    },
    {
     "ename": "TypeError",
     "evalue": "'str' object does not support item assignment",
     "output_type": "error",
     "traceback": [
      "\u001b[1;31m---------------------------------------------------------------------------\u001b[0m",
      "\u001b[1;31mTypeError\u001b[0m                                 Traceback (most recent call last)",
      "Cell \u001b[1;32mIn[14], line 19\u001b[0m\n\u001b[0;32m     14\u001b[0m \u001b[38;5;124;03m\"\"\"\u001b[39;00m\n\u001b[0;32m     15\u001b[0m \u001b[38;5;124;03mImmutable data types = those data types which can not be altered at its memory ie when we can not make changes in the original form.\u001b[39;00m\n\u001b[0;32m     16\u001b[0m \u001b[38;5;124;03mfor example: string , tuple etc\u001b[39;00m\n\u001b[0;32m     17\u001b[0m \u001b[38;5;124;03m\"\"\"\u001b[39;00m\n\u001b[0;32m     18\u001b[0m string \u001b[38;5;241m=\u001b[39m \u001b[38;5;124m'\u001b[39m\u001b[38;5;124mshweta\u001b[39m\u001b[38;5;124m'\u001b[39m\n\u001b[1;32m---> 19\u001b[0m string[\u001b[38;5;241m3\u001b[39m] \u001b[38;5;241m=\u001b[39m \u001b[38;5;124m'\u001b[39m\u001b[38;5;124ma\u001b[39m\u001b[38;5;124m'\u001b[39m\n\u001b[0;32m     20\u001b[0m \u001b[38;5;28mprint\u001b[39m(string)\n",
      "\u001b[1;31mTypeError\u001b[0m: 'str' object does not support item assignment"
     ]
    }
   ],
   "source": [
    "\"\"\"\n",
    "Q7. What do you understand about mutable and immutable data types? Give examples for both showing\n",
    "this property.\n",
    "\"\"\"\n",
    "\n",
    "\"\"\"\n",
    "Mutable data types- those data types which can be altered at its memory ie when we can make changes in the original form.\n",
    "For example: list\n",
    "\"\"\"\n",
    "lst1 = [1,2,'list']\n",
    "lst1[1] = 'two'\n",
    "print(lst1)\n",
    "\n",
    "\"\"\"\n",
    "Immutable data types = those data types which can not be altered at its memory ie when we can not make changes in the original form.\n",
    "for example: string , tuple etc\n",
    "\"\"\"\n",
    "string = 'shweta'\n",
    "string[3] = 'a'\n",
    "print(string)"
   ]
  },
  {
   "cell_type": "code",
   "execution_count": null,
   "id": "aec5a076",
   "metadata": {},
   "outputs": [],
   "source": []
  }
 ],
 "metadata": {
  "kernelspec": {
   "display_name": "Python 3 (ipykernel)",
   "language": "python",
   "name": "python3"
  },
  "language_info": {
   "codemirror_mode": {
    "name": "ipython",
    "version": 3
   },
   "file_extension": ".py",
   "mimetype": "text/x-python",
   "name": "python",
   "nbconvert_exporter": "python",
   "pygments_lexer": "ipython3",
   "version": "3.10.9"
  }
 },
 "nbformat": 4,
 "nbformat_minor": 5
}
