{
 "cells": [
  {
   "cell_type": "code",
   "execution_count": 6,
   "id": "ce050877",
   "metadata": {},
   "outputs": [],
   "source": [
    "\"\"\"\n",
    "Q1. Which keyword is used to create a function? Create a function to return a list of odd numbers in the\n",
    "range of 1 to 25.\n",
    "\"\"\"\n",
    "\"\"\"\n",
    "\"def\" is used to create any function.\n",
    "\"\"\"\n",
    "def odd():\n",
    "    lst_odd = []\n",
    "    for i in range(25):\n",
    "        if i%2!=0:\n",
    "            lst_odd.append(i)\n",
    "    return(lst_odd)       "
   ]
  },
  {
   "cell_type": "code",
   "execution_count": 7,
   "id": "97d35cee",
   "metadata": {},
   "outputs": [
    {
     "data": {
      "text/plain": [
       "[1, 3, 5, 7, 9, 11, 13, 15, 17, 19, 21, 23]"
      ]
     },
     "execution_count": 7,
     "metadata": {},
     "output_type": "execute_result"
    }
   ],
   "source": [
    "odd()"
   ]
  },
  {
   "cell_type": "code",
   "execution_count": 13,
   "id": "9406d2ea",
   "metadata": {},
   "outputs": [],
   "source": [
    "\"\"\"\n",
    "Q2. Why *args and **kwargs is used in some functions? Create a function each for *args and **kwargs to\n",
    "demonstrate their use.\n",
    "\"\"\"\n",
    "\"\"\"\n",
    "*args are used in any function to return any number of arguements.\n",
    "**kwargs are used in some functions to return a dictionary with keyword and values\n",
    "with any number of arguements.\n",
    "\"\"\"\n",
    "\n",
    "def test1(*args):\n",
    "    l1 = []\n",
    "    for i in args:\n",
    "        l1.append(i**2)\n",
    "    return(l1)    \n",
    "\n",
    "\n",
    "def test2(**kwargs):\n",
    "    for i in kwargs:\n",
    "        print(i)"
   ]
  },
  {
   "cell_type": "code",
   "execution_count": 14,
   "id": "83ef918b",
   "metadata": {},
   "outputs": [
    {
     "data": {
      "text/plain": [
       "[4, 25]"
      ]
     },
     "execution_count": 14,
     "metadata": {},
     "output_type": "execute_result"
    }
   ],
   "source": [
    "test1(2,5)"
   ]
  },
  {
   "cell_type": "code",
   "execution_count": 15,
   "id": "ab0cdf0d",
   "metadata": {},
   "outputs": [
    {
     "data": {
      "text/plain": [
       "[1, 4, 25, 49, 16, 81]"
      ]
     },
     "execution_count": 15,
     "metadata": {},
     "output_type": "execute_result"
    }
   ],
   "source": [
    "test1(1,2,5,7,4,9)"
   ]
  },
  {
   "cell_type": "code",
   "execution_count": 20,
   "id": "b1e79564",
   "metadata": {},
   "outputs": [],
   "source": [
    "test2()"
   ]
  },
  {
   "cell_type": "code",
   "execution_count": 21,
   "id": "1591e979",
   "metadata": {},
   "outputs": [
    {
     "name": "stdout",
     "output_type": "stream",
     "text": [
      "2\n",
      "4\n",
      "6\n",
      "8\n",
      "10\n"
     ]
    }
   ],
   "source": [
    "\"\"\"\n",
    "Q3. What is an iterator in python? Name the method used to initialise the iterator object and the method\n",
    "used for iteration. Use these methods to print the first five elements of the given list [2, 4, 6, 8, 10, 12, 14, 16,\n",
    "18, 20].\n",
    "\"\"\"\n",
    "\"\"\"\n",
    "Iterator is an object that allows you to traverse through elements of a collection or sequence,\n",
    "such as a list, tuple, or dictionary, one at a time. \n",
    "It provides a way to access the elements sequentially without exposing the underlying implementation details of the collection.\n",
    "\n",
    "To initialize an iterator object in Python, we can use the iter() function. \n",
    "This function takes an iterable as an argument and returns an iterator object associated with that iterable.\n",
    "\"\"\"\n",
    "\n",
    "l2 = [2, 4, 6, 8, 10, 12, 14, 16, 18, 20]\n",
    "my_iter = iter(l2)\n",
    "\n",
    "for _ in range(5):\n",
    "    element = next(my_iter)\n",
    "    print(element)"
   ]
  },
  {
   "cell_type": "code",
   "execution_count": 22,
   "id": "abde45a3",
   "metadata": {},
   "outputs": [
    {
     "name": "stdout",
     "output_type": "stream",
     "text": [
      "0\n",
      "2\n",
      "4\n",
      "6\n",
      "8\n"
     ]
    }
   ],
   "source": [
    "\"\"\"\n",
    "Q4. What is a generator function in python? Why yield keyword is used? Give an example of a generator\n",
    "function.\n",
    "\"\"\"\n",
    "\n",
    "\"\"\"\n",
    "Generator function is a special type of function that generates a sequence of values using the yield keyword.\n",
    "generator functions can yield multiple values over time and pause their execution state between each yield statement\n",
    "The yield keyword is used in a generator function to define points at which the \n",
    "function should pause its execution and yield a value to the caller. \n",
    "When a generator function is called, it returns a generator object, which can be iterated\n",
    "over using a loop or by calling the next() function to retrieve the next yielded value.\n",
    "\"\"\"\n",
    "\n",
    "def even_numbers(limit):\n",
    "    num = 0\n",
    "    while num < limit:\n",
    "        yield num\n",
    "        num += 2\n",
    "\n",
    "# Using the generator function\n",
    "even_gen = even_numbers(10)\n",
    "\n",
    "for number in even_gen:\n",
    "    print(number)"
   ]
  },
  {
   "cell_type": "code",
   "execution_count": 34,
   "id": "195541e8",
   "metadata": {},
   "outputs": [
    {
     "name": "stdout",
     "output_type": "stream",
     "text": [
      "2\n",
      "3\n",
      "5\n",
      "7\n",
      "11\n",
      "13\n",
      "17\n",
      "19\n",
      "23\n",
      "29\n",
      "31\n",
      "37\n",
      "41\n",
      "43\n",
      "47\n",
      "53\n",
      "59\n",
      "61\n",
      "67\n",
      "71\n"
     ]
    }
   ],
   "source": [
    "\"\"\"\n",
    "Q5. Create a generator function for prime numbers less than 1000. Use the next() method to print the\n",
    "first 20 prime numbers.\n",
    "\"\"\"\n",
    "\n",
    "def prime_generator():\n",
    "    primes = []\n",
    "    num = 2\n",
    "\n",
    "    while True:\n",
    "        if all(num % prime != 0 for prime in primes):\n",
    "            primes.append(num)\n",
    "            yield num\n",
    "        num += 1\n",
    "\n",
    "# Using the generator function to print the first 20 prime numbers\n",
    "prime_gen = prime_generator()\n",
    "\n",
    "for _ in range(20):\n",
    "    prime = next(prime_gen)\n",
    "    print(prime)"
   ]
  },
  {
   "cell_type": "code",
   "execution_count": null,
   "id": "e5b4fd49",
   "metadata": {},
   "outputs": [],
   "source": []
  }
 ],
 "metadata": {
  "kernelspec": {
   "display_name": "Python 3 (ipykernel)",
   "language": "python",
   "name": "python3"
  },
  "language_info": {
   "codemirror_mode": {
    "name": "ipython",
    "version": 3
   },
   "file_extension": ".py",
   "mimetype": "text/x-python",
   "name": "python",
   "nbconvert_exporter": "python",
   "pygments_lexer": "ipython3",
   "version": "3.10.9"
  }
 },
 "nbformat": 4,
 "nbformat_minor": 5
}
