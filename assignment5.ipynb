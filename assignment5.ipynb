{
 "cells": [
  {
   "cell_type": "code",
   "execution_count": 1,
   "id": "e7c36020",
   "metadata": {},
   "outputs": [
    {
     "name": "stdout",
     "output_type": "stream",
     "text": [
      "Honda\n",
      "Corolla\n",
      "The car is starting.\n",
      "The car is accelerating.\n",
      "The car has stopped.\n"
     ]
    }
   ],
   "source": [
    "\"\"\"\n",
    "Explain Class and Object with respect to Object-Oriented Programming. Give a suitable example.\n",
    "\"\"\"\n",
    "\n",
    "\"\"\"\n",
    "In object-oriented programming (OOP), a class is a blueprint or template that defines the properties and behaviors (methods) of objects.\n",
    "It serves as a blueprint for creating individual instances of objects with similar characteristics.\n",
    "An object, on the other hand, is an instance of a class.\n",
    "It represents a specific entity or concept and encapsulates both data (properties) and the operations (methods) that can be performed on that data.\n",
    "\n",
    "Let's consider a simple example to understand classes and objects better.\n",
    "Suppose we have a class called \"Car\" that represents the concept of a car. The Car class could have \n",
    "properties like \"make,\" \"model,\" \"color,\" and \"year,\" as well as methods like \"start,\" \"accelerate,\" and \"stop.\"\n",
    "\"\"\"\n",
    "\n",
    "# Define the Car class\n",
    "class Car:\n",
    "    def __init__(self, make, model, color, year):\n",
    "        self.make = make\n",
    "        self.model = model\n",
    "        self.color = color\n",
    "        self.year = year\n",
    "    \n",
    "    def start(self):\n",
    "        print(\"The car is starting.\")\n",
    "    \n",
    "    def accelerate(self):\n",
    "        print(\"The car is accelerating.\")\n",
    "    \n",
    "    def stop(self):\n",
    "        print(\"The car has stopped.\")\n",
    "\n",
    "# Create objects (instances) of the Car class\n",
    "car1 = Car(\"Honda\", \"Civic\", \"Red\", 2020)\n",
    "car2 = Car(\"Toyota\", \"Corolla\", \"Blue\", 2018)\n",
    "\n",
    "# Access object properties\n",
    "print(car1.make)  # Output: Honda\n",
    "print(car2.model)  # Output: Corolla\n",
    "\n",
    "# Call object methods\n",
    "car1.start()  # Output: The car is starting.\n",
    "car2.accelerate()  # Output: The car is accelerating.\n",
    "car1.stop()  # Output: The car has stopped."
   ]
  },
  {
   "cell_type": "code",
   "execution_count": 2,
   "id": "55d6c8e9",
   "metadata": {},
   "outputs": [
    {
     "data": {
      "text/plain": [
       "'\\nThe four pillars of object-oriented programming (OOP) are:\\n1.Encapsulation\\n2.Inheritance\\n3.Polymorphism\\n4.Abstraction\\n'"
      ]
     },
     "execution_count": 2,
     "metadata": {},
     "output_type": "execute_result"
    }
   ],
   "source": [
    "\"\"\"\n",
    "Name the four pillars of OOPs.\n",
    "\"\"\"\n",
    "\"\"\"\n",
    "The four pillars of object-oriented programming (OOP) are:\n",
    "1.Encapsulation\n",
    "2.Inheritance\n",
    "3.Polymorphism\n",
    "4.Abstraction\n",
    "\"\"\""
   ]
  },
  {
   "cell_type": "code",
   "execution_count": 3,
   "id": "1a83db22",
   "metadata": {},
   "outputs": [
    {
     "name": "stdout",
     "output_type": "stream",
     "text": [
      "Hello, my name is John. I am 25 years old and I work as a Engineer.\n",
      "Hello, my name is Alice. I am 30 years old and I work as a Teacher.\n"
     ]
    }
   ],
   "source": [
    "\"\"\"\n",
    "Explain why the __init__() function is used. Give a suitable example.\n",
    "\"\"\"\n",
    "\n",
    "\"\"\"\n",
    "__init__() function is a special method, also known as a constructor, that is automatically called when creating an object of a class.\n",
    "It is used to initialize the attributes (properties) of the object with values provided during object creation or with default values.\n",
    "\n",
    "The __init__() method allows you to set up the initial state of an object by defining the values of its attributes.\n",
    "It takes the self parameter as the first argument, which refers to the instance of the object being created.\n",
    "Additional parameters can be defined to accept values that are passed when creating the object.\n",
    "\"\"\"\n",
    "\n",
    "class Person:\n",
    "    def __init__(self, name, age, profession):\n",
    "        self.name = name\n",
    "        self.age = age\n",
    "        self.profession = profession\n",
    "\n",
    "    def introduce(self):\n",
    "        print(f\"Hello, my name is {self.name}. I am {self.age} years old and I work as a {self.profession}.\")\n",
    "\n",
    "# Creating objects and initializing attributes using __init__()\n",
    "person1 = Person(\"John\", 25, \"Engineer\")\n",
    "person2 = Person(\"Alice\", 30, \"Teacher\")\n",
    "\n",
    "# Calling the introduce() method to introduce the persons\n",
    "person1.introduce()  # Output: Hello, my name is John. I am 25 years old and I work as an Engineer.\n",
    "person2.introduce()  # Output: Hello, my name is Alice. I am 30 years old and I work as a Teacher."
   ]
  },
  {
   "cell_type": "code",
   "execution_count": null,
   "id": "6f6c537f",
   "metadata": {},
   "outputs": [],
   "source": [
    "\"\"\"\n",
    "Why self is used in OOPs?\n",
    "\"\"\"\n",
    "\n",
    "\"\"\"\n",
    "In object-oriented programming (OOP), self is a convention used to refer to the instance of a class within the class methods.\n",
    "It is a way to refer to the specific object that is being operated upon or accessed.\n",
    "\n",
    "When defining a class in Python, methods that belong to the class need to have the first parameter named self.\n",
    "This parameter refers to the instance of the class itself, allowing the methods to access and modify the attributes\n",
    "and methods of that particular instance.\n",
    "\"\"\""
   ]
  },
  {
   "cell_type": "code",
   "execution_count": null,
   "id": "199b8904",
   "metadata": {},
   "outputs": [],
   "source": [
    "\"\"\"\n",
    "What is inheritance? Give an example for each type of inheritance.\n",
    "\"\"\"\n",
    "\n",
    "\"\"\"\n",
    "nheritance is a fundamental concept in object-oriented programming (OOP) that allows the creation of \n",
    "new classes (derived classes or subclasses) based on existing classes (base classes or parent classes).\n",
    "The derived classes inherit the properties and behaviors of the base class, enabling code reuse and \n",
    "establishing a hierarchical relationship between classes.\n",
    "\n",
    "There are different types of inheritance in OOP:\n",
    "\n",
    "1. Single Inheritance: In single inheritance, a derived class inherits properties and methods from a single base class.\n",
    "It represents an \"is-a\" relationship between classes. Example...\n",
    "\"\"\"\n",
    "class Animal:\n",
    "    def sound(self):\n",
    "        print(\"Making sound\")\n",
    "\n",
    "class Dog(Animal):\n",
    "    def bark(self):\n",
    "        print(\"Barking\")\n",
    "\n",
    "# Creating an instance of the Dog class\n",
    "dog = Dog()\n",
    "\n",
    "# Accessing methods from both base and derived class\n",
    "dog.sound()  # Output: Making sound\n",
    "dog.bark()  # Output: Barking\n",
    "\n",
    "\"\"\"\n",
    "2.Multiple Inheritance: Multiple inheritance allows a derived class to inherit properties and methods from multiple base classes. \n",
    "It represents a combination of different characteristics from multiple classes.Example...\n",
    "\"\"\"\n",
    "class Car:\n",
    "    def start(self):\n",
    "        print(\"Car started\")\n",
    "\n",
    "class Electric:\n",
    "    def charge(self):\n",
    "        print(\"Charging\")\n",
    "\n",
    "class ElectricCar(Car, Electric):\n",
    "    def accelerate(self):\n",
    "        print(\"Accelerating\")\n",
    "\n",
    "# Creating an instance of the ElectricCar class\n",
    "electric_car = ElectricCar()\n",
    "\n",
    "# Accessing methods from both base classes\n",
    "electric_car.start()  # Output: Car started\n",
    "electric_car.charge()  # Output: Charging\n",
    "electric_car.accelerate()  # Output: Accelerating\n",
    "\n",
    "\"\"\"\"\"\""
   ]
  }
 ],
 "metadata": {
  "kernelspec": {
   "display_name": "Python 3 (ipykernel)",
   "language": "python",
   "name": "python3"
  },
  "language_info": {
   "codemirror_mode": {
    "name": "ipython",
    "version": 3
   },
   "file_extension": ".py",
   "mimetype": "text/x-python",
   "name": "python",
   "nbconvert_exporter": "python",
   "pygments_lexer": "ipython3",
   "version": "3.10.9"
  }
 },
 "nbformat": 4,
 "nbformat_minor": 5
}
